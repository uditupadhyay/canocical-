{
  "nbformat": 4,
  "nbformat_minor": 0,
  "metadata": {
    "colab": {
      "name": "algo_proj_final.ipynb",
      "provenance": [],
      "collapsed_sections": []
    },
    "kernelspec": {
      "display_name": "Python 3",
      "language": "python",
      "name": "python3"
    },
    "language_info": {
      "codemirror_mode": {
        "name": "ipython",
        "version": 3
      },
      "file_extension": ".py",
      "mimetype": "text/x-python",
      "name": "python",
      "nbconvert_exporter": "python",
      "pygments_lexer": "ipython3",
      "version": "3.7.6"
    }
  },
  "cells": [
    {
      "cell_type": "code",
      "metadata": {
        "id": "VhThUw-P9aEe",
        "colab": {
          "base_uri": "https://localhost:8080/"
        },
        "outputId": "3c5cafa6-5eef-42eb-8f23-aeefe6cfecf2"
      },
      "source": [
        "pip install huffman"
      ],
      "execution_count": null,
      "outputs": [
        {
          "output_type": "stream",
          "text": [
            "Collecting huffman\n",
            "  Downloading https://files.pythonhosted.org/packages/c5/72/99cf86630e26a02f2ee6ab649465fce7af7723635902cd79af91f6cc60e5/huffman-0.1.2-py2.py3-none-any.whl\n",
            "Installing collected packages: huffman\n",
            "Successfully installed huffman-0.1.2\n"
          ],
          "name": "stdout"
        }
      ]
    },
    {
      "cell_type": "code",
      "metadata": {
        "id": "niKyYYA5tbrg"
      },
      "source": [
        "import collections\n",
        "from collections import deque\n",
        "import huffman"
      ],
      "execution_count": null,
      "outputs": []
    },
    {
      "cell_type": "markdown",
      "metadata": {
        "id": "zX0jmf65t7b3"
      },
      "source": [
        "#NodeTree"
      ]
    },
    {
      "cell_type": "code",
      "metadata": {
        "id": "4JbiU7Fzt-Kz"
      },
      "source": [
        "class NodeTree(object):\n",
        "    def __init__(self, left=None, right=None):\n",
        "        self.left = left\n",
        "        self.right = right\n",
        "\n",
        "    def children(self):\n",
        "        return (self.left, self.right)\n",
        "\n",
        "    def nodes(self):\n",
        "        return (self.left, self.right)\n",
        "\n",
        "    def __str__(self):\n",
        "        return '%s_%s' % (self.left, self.right)"
      ],
      "execution_count": null,
      "outputs": []
    },
    {
      "cell_type": "markdown",
      "metadata": {
        "id": "q3-HsOjhuInN"
      },
      "source": [
        "#Huffman Code tree"
      ]
    },
    {
      "cell_type": "code",
      "metadata": {
        "id": "OljLrT3EuLwe"
      },
      "source": [
        "def huffman_code_tree(node, left=True, binString=''):\n",
        "    if type(node) is str:\n",
        "        return {node: binString}\n",
        "    (l, r) = node.children()\n",
        "    d = dict()\n",
        "    d.update(huffman_code_tree(l, True, binString + '0'))\n",
        "    d.update(huffman_code_tree(r, False, binString + '1'))\n",
        "    return d"
      ],
      "execution_count": null,
      "outputs": []
    },
    {
      "cell_type": "markdown",
      "metadata": {
        "id": "ydR3wm3huScF"
      },
      "source": [
        "#Huffman Codes"
      ]
    },
    {
      "cell_type": "code",
      "metadata": {
        "id": "vPw9DHvkuVKw"
      },
      "source": [
        "def huffman_codes_0(string):\n",
        "\tfreq = {}\n",
        "\tfor c in string:\n",
        "\t\tif c in freq:\n",
        "\t\t\tfreq[c] += 1\n",
        "\t\telse:\n",
        "\t\t\tfreq[c] = 1\n",
        "\n",
        "\tfreq = sorted(freq.items(), key=lambda x: x[1], reverse=True)\n",
        "\n",
        "\tnodes = freq\n",
        "\n",
        "\twhile len(nodes) > 1:\n",
        "\t\t(key1, c1) = nodes[-1]\n",
        "\t\t(key2, c2) = nodes[-2]\n",
        "\t\tnodes = nodes[:-2]\n",
        "\t\tnode = NodeTree(key1, key2)\n",
        "\t\tnodes.append((node, c1 + c2))\n",
        "\n",
        "\t\tnodes = sorted(nodes, key=lambda x: x[1], reverse=True)\n",
        "\thuffmanCode = huffman_code_tree(nodes[0][0])\n",
        "\n",
        "\tprint(' Char | HF code | Code length')\n",
        "\tprint('--------------------------------')\n",
        "\tfor (char, frequency) in freq:\n",
        "\t\tprint(' %-4r |%8s |%5s' % (char, huffmanCode[char], len(huffmanCode[char])))\n",
        "\t\tcodebook[char] = huffmanCode[char]\n",
        "\n",
        "\treturn codebook"
      ],
      "execution_count": null,
      "outputs": []
    },
    {
      "cell_type": "markdown",
      "metadata": {
        "id": "yKR94ggn-L2b"
      },
      "source": [
        "##version_2"
      ]
    },
    {
      "cell_type": "code",
      "metadata": {
        "id": "YgC0vjSM9uh6"
      },
      "source": [
        "def huffman_codes_1(string):\n",
        "    codebook = huffman.codebook(collections.Counter(string).items())\n",
        "    print(codebook)\n",
        "    return codebook"
      ],
      "execution_count": null,
      "outputs": []
    },
    {
      "cell_type": "markdown",
      "metadata": {
        "id": "USsAB0vzuY7t"
      },
      "source": [
        "#canonical code Tree"
      ]
    },
    {
      "cell_type": "code",
      "metadata": {
        "id": "WQpClNlLucUn"
      },
      "source": [
        "def can_code_tree(codebook):  \n",
        "    codebook = dict(sorted(dict(sorted(codebook.items())).items(), key=lambda x: len(x[1])))\n",
        "    can_code=[]\n",
        "    i=0\n",
        "    for key, value in codebook.items() :\n",
        "        length = len(value)\n",
        "        if i==0:\n",
        "            can_code.append('0'*length)\n",
        "        else:\n",
        "            bin_inc = int(can_code[i-1], base=2) + 1\n",
        "            bin_str = str(\"{:b}\".format(bin_inc))\n",
        "            msb_zero = len(can_code[i-1])-len(bin_str)\n",
        "            lsb_zero = length-len(can_code[i-1])\n",
        "            bin_str = ('0'*msb_zero) + bin_str    \n",
        "            bin_str = bin_str + ('0'*abs(lsb_zero))\n",
        "            can_code.append(bin_str)\n",
        "        i = i+1\n",
        "    codebook_Can = {list(codebook.keys())[i]: can_code[i] for i in range(len(can_code))} \n",
        "    return codebook_Can"
      ],
      "execution_count": null,
      "outputs": []
    },
    {
      "cell_type": "markdown",
      "metadata": {
        "id": "VkTdapXtuidf"
      },
      "source": [
        "# T_bar(C)"
      ]
    },
    {
      "cell_type": "code",
      "metadata": {
        "id": "Su9q6NRtAV--"
      },
      "source": [
        "def T_bar(C, codebook_Can):\n",
        "    r_max = len(C)\n",
        "    for r in range(1, r_max+1):\n",
        "        C_temp = []\n",
        "        C_temp = (C[0:r])\n",
        "        # print(C_temp,r)\n",
        "        for key, value in codebook_Can.items() :\n",
        "            if C_temp == list(value) :\n",
        "                z = key\n",
        "                return (z, r)\n",
        "    return -1"
      ],
      "execution_count": null,
      "outputs": []
    },
    {
      "cell_type": "markdown",
      "metadata": {
        "id": "WKeMPFFYurzm"
      },
      "source": [
        "# Encoding"
      ]
    },
    {
      "cell_type": "code",
      "metadata": {
        "id": "HB5rdeNXu285"
      },
      "source": [
        "def E_t(S, N, t, T_book) :\n",
        "    X=[-1]*N*t\n",
        "    stack_T1= deque()\n",
        "\n",
        "    for i in range(1, N+1):\n",
        "        C = T_book[S[i-1]]\n",
        "        L = len(C)\n",
        "        start = (i-1)*t\n",
        "        end = i*t\n",
        "        if L <= t :\n",
        "            end_temp = (i-1)*t + L\n",
        "            X[start : end_temp] = C[ : L]\n",
        "            X[end_temp : end] = [stack_T1.pop() for _ in range(t-L) if len(stack_T1)>0]\n",
        "        else :\n",
        "            X[start : end] = C[ : t]\n",
        "            for i in range(t, L) :\n",
        "                stack_T1.append(C[i])\n",
        "            \n",
        "    I = 0\n",
        "    if len(stack_T1) == 0:\n",
        "        return (X,0)\n",
        "    if len(stack_T1) != 0 :            \n",
        "        for i in range(0, N*t) :\n",
        "          if len(stack_T1) == 0 :\n",
        "            break \n",
        "          if X[i] == -1 :\n",
        "            X[i] = stack_T1.pop()\n",
        "            I = i\n",
        "    while len(stack_T1) != 0 :\n",
        "      X.append(stack_T1.pop())\n",
        "\n",
        "    I = int(I/t) + 1\n",
        "    return (X, I)"
      ],
      "execution_count": null,
      "outputs": []
    },
    {
      "cell_type": "markdown",
      "metadata": {
        "id": "Ucf6rBqxuvSo"
      },
      "source": [
        "# Decoding"
      ]
    },
    {
      "cell_type": "markdown",
      "metadata": {
        "id": "Jb_zHZHpuxnw"
      },
      "source": [
        "##Decoding1.1"
      ]
    },
    {
      "cell_type": "code",
      "metadata": {
        "id": "F4vAFObRu-l7"
      },
      "source": [
        "# def F(s, e, T) :\n",
        "#     S=[-1]*e\n",
        "#     i = e\n",
        "#     for i in range(e,s,-1):\n",
        "#         start = (i-1)*t  #indexing\n",
        "#         end = i*t\n",
        "#         C = X[start : end]\n",
        "#         while T_bar(C) == -1:\n",
        "#             top = T.pop()\n",
        "#             C = C + [top]\n",
        "#         (S[i-1], r) = T_bar(C)\n",
        "#         for i in range(r,t):\n",
        "#             T.append(C[i-1])\n",
        "#     return (S, T)"
      ],
      "execution_count": null,
      "outputs": []
    },
    {
      "cell_type": "code",
      "metadata": {
        "id": "pyEwPz9s5wFW"
      },
      "source": [
        "def F(s, e, T, codebook_Can):\n",
        "  S=[-1]*e\n",
        "  i = e\n",
        "  while i!=s :\n",
        "    start = (i-1)*t  #indexing\n",
        "    end = i*t\n",
        "    C = X[start : end]\n",
        "    if len(T) == 0 :\n",
        "        (S[i-1], r) = T_bar(C, codebook_Can)\n",
        "    else :\n",
        "        while T_bar(C, codebook_Can) == -1:\n",
        "          top = T.pop()\n",
        "          C = C + [top]\n",
        "        (S[i-1], r) = T_bar(C, codebook_Can)\n",
        "    if r!=t and r<t:\n",
        "      temp=C[r:t]\n",
        "      for j in range(len(temp)):\n",
        "        T.append(temp[j])\n",
        "    i=i-1\n",
        "  return S[s:e]"
      ],
      "execution_count": null,
      "outputs": []
    },
    {
      "cell_type": "markdown",
      "metadata": {
        "id": "x5oBDt9ou0b3"
      },
      "source": [
        "## Decoding1.2"
      ]
    },
    {
      "cell_type": "code",
      "metadata": {
        "id": "1w1RHugqvCZQ"
      },
      "source": [
        "def Decode(X, M, I, N, t, codebook_Can):\n",
        "  S=[-1]*N\n",
        "  start=0\n",
        "  end=N*t\n",
        "  X1=X[start:end]\n",
        "  T1=deque()\n",
        "  if (M>end):\n",
        "    start=N*t\n",
        "    end=M\n",
        "    X2=X[start:end]\n",
        "    for i in range(0,len(X2)):\n",
        "      T1.append(X2[i])\n",
        "  if I==0:\n",
        "    S=F(0, N, T1, codebook_Can)\n",
        "  else:\n",
        "    T2=deque()\n",
        "    #T2.append('-1')\n",
        "    S[0:I]=F(0, I, T2, codebook_Can)\n",
        "    while len(T2)!=0:\n",
        "      temp=T2.pop()\n",
        "      T1.append(temp[0])\n",
        "    S[I:N]=F(I, N, T1, codebook_Can)\n",
        "  return S"
      ],
      "execution_count": null,
      "outputs": []
    },
    {
      "cell_type": "markdown",
      "metadata": {
        "id": "xtmqvP6ovKDZ"
      },
      "source": [
        "# Retrieval"
      ]
    },
    {
      "cell_type": "code",
      "metadata": {
        "id": "-hd34E9kvNNN"
      },
      "source": [
        "def R(X, t, N, k):\n",
        "    M = len(X)\n",
        "    if k > N:\n",
        "        return ('-', k, [])\n",
        "        # return ('-1', k, X[N*t : M])\n",
        "    else:\n",
        "        C = X[(k-1)*t : k*t]\n",
        "    while True:\n",
        "        if T_bar(C, codebook_Can) != -1:\n",
        "            (v, r) = T_bar(C, codebook_Can)\n",
        "            return (v, k, C[r: t])\n",
        "        elif k+1 <= N:\n",
        "            (V, K, B) = R(X,t,N,k+1)\n",
        "        else:\n",
        "            return ('-',N+1,[])\n",
        "        C = C + B\n",
        "        k = K"
      ],
      "execution_count": null,
      "outputs": []
    },
    {
      "cell_type": "markdown",
      "metadata": {
        "id": "UZxYWOeOvvKM"
      },
      "source": [
        "## retrieval_bar"
      ]
    },
    {
      "cell_type": "code",
      "metadata": {
        "id": "a6tRFuDUvzUa"
      },
      "source": [
        "def Ra_bar(X, t, N, k) :\n",
        "    if k > N :\n",
        "        return print(\"error\")\n",
        "    start1 = (k-1)*t #indexing\n",
        "    end1 = k*t\n",
        "    C =  X[start1 : end1]\n",
        " \n",
        "    if T_bar(C) != -1 :\n",
        "        (v, r) = T_bar(C)\n",
        "        print(r)\n",
        "        return v\n",
        "    else :\n",
        "        j = T[S[k-1]] - t #indexing\n",
        "        m = 0\n",
        "        if j + m > 0 :\n",
        "            while m >= 0 :\n",
        "                k += 1\n",
        "                m = m + T[S[k-1]] - t #indexing\n",
        "                \n",
        "            start2 = k*t + m -1 -1 #indexing\n",
        "            end2 = k*t\n",
        "            # 16: C ← (C|X(kt + m − 1 : kt)\n",
        "            C = (C +  X[start2 : end2])\n",
        " \n",
        "    (v, r) = T_bar(C)\n",
        "    return v"
      ],
      "execution_count": null,
      "outputs": []
    },
    {
      "cell_type": "markdown",
      "metadata": {
        "id": "b9dKXgPuvVDx"
      },
      "source": [
        "# Test case Inputs"
      ]
    },
    {
      "cell_type": "code",
      "metadata": {
        "id": "qgL4yQM4vX6x"
      },
      "source": [
        "# key:value = test_case : block_size\n",
        "\n",
        "text_file ={\n",
        "    \"uditupadhayay\":3,\n",
        "    \"minion\":2,\n",
        "    \"error\":2,\n",
        "    \"project\":2,\n",
        "    \"datastructure\":3,\n",
        "    \"alphabet\":3\n",
        "}\n",
        "\n",
        "text = list(text_file.keys())[-2] #give index number inside \"[]\"\"\n",
        "t = text_file[text]\n",
        "N = len(text)\n",
        "S = [char for char in text]"
      ],
      "execution_count": null,
      "outputs": []
    },
    {
      "cell_type": "code",
      "metadata": {
        "colab": {
          "base_uri": "https://localhost:8080/"
        },
        "id": "y-7I_6TDvasp",
        "outputId": "bce0af13-e3d5-4b83-a1e3-7da7b56bd8fa"
      },
      "source": [
        "codebook = {}\n",
        "codebook = huffman_codes_0(text)\n",
        "codebook_Can = can_code_tree(codebook)\n",
        "\n",
        "print(codebook_Can)"
      ],
      "execution_count": null,
      "outputs": [
        {
          "output_type": "stream",
          "text": [
            " Char | HF code | Code length\n",
            "--------------------------------\n",
            " 't'  |      01 |    2\n",
            " 'a'  |      00 |    2\n",
            " 'r'  |     101 |    3\n",
            " 'u'  |     100 |    3\n",
            " 'd'  |    1101 |    4\n",
            " 's'  |    1100 |    4\n",
            " 'c'  |    1111 |    4\n",
            " 'e'  |    1110 |    4\n",
            "{'a': '00', 't': '01', 'r': '100', 'u': '101', 'c': '1100', 'd': '1101', 'e': '1110', 's': '1111'}\n"
          ],
          "name": "stdout"
        }
      ]
    },
    {
      "cell_type": "code",
      "metadata": {
        "colab": {
          "base_uri": "https://localhost:8080/"
        },
        "id": "ljZdp3eFvdMp",
        "outputId": "a00bbd9f-1ae3-4b37-c988-a4184f9829b2"
      },
      "source": [
        "(X, I) = E_t(S, N, t, codebook_Can)\n",
        "\n",
        "print(X,I)"
      ],
      "execution_count": null,
      "outputs": [
        {
          "output_type": "stream",
          "text": [
            "['1', '1', '0', '0', '0', '1', '0', '1', '0', '0', '0', -1, '1', '1', '1', '0', '1', '1', '1', '0', '0', '1', '0', '1', '1', '1', '0', '0', '1', '0', '1', '0', '1', '1', '0', '0', '1', '1', '1'] 3\n"
          ],
          "name": "stdout"
        }
      ]
    },
    {
      "cell_type": "code",
      "metadata": {
        "id": "4Ux2GOZOQcvZ"
      },
      "source": [
        "# X = ['1','1','0','1','0','0','1','0','0','0','1','0','0','1','1','1','0','1','1','0','1','1','0','1','1','1','0']\n",
        "# I = 1\n",
        "# print(X)"
      ],
      "execution_count": null,
      "outputs": []
    },
    {
      "cell_type": "code",
      "metadata": {
        "colab": {
          "base_uri": "https://localhost:8080/"
        },
        "id": "YpQ3jDN0vf15",
        "outputId": "d048f4fa-1f1b-48a5-ef4b-f7ccfd7c078f"
      },
      "source": [
        "M = len(X)\n",
        "N = len(text)\n",
        "\n",
        "decode_text_list = Decode(X, M, I, N, t, codebook_Can)\n",
        "decode_text = \"\".join(decode_text_list)\n",
        "\n",
        "print(decode_text)"
      ],
      "execution_count": null,
      "outputs": [
        {
          "output_type": "stream",
          "text": [
            "datastructure\n"
          ],
          "name": "stdout"
        }
      ]
    },
    {
      "cell_type": "code",
      "metadata": {
        "colab": {
          "base_uri": "https://localhost:8080/"
        },
        "id": "-WDAWipcHgcZ",
        "outputId": "89b68d73-2cb1-46e1-c0aa-4c173de09d83"
      },
      "source": [
        "print(\"Input text : \\\"\" + text + \"\\\". Output text : \\\"\" + decode_text)\n",
        "print(text==decode_text)"
      ],
      "execution_count": null,
      "outputs": [
        {
          "output_type": "stream",
          "text": [
            "Input text : \"datastructure\". Output text : \"datastructure\n",
            "True\n"
          ],
          "name": "stdout"
        }
      ]
    },
    {
      "cell_type": "markdown",
      "metadata": {
        "id": "KqawfZLpDVlQ"
      },
      "source": [
        "#### Retrieve Symbol at random index"
      ]
    },
    {
      "cell_type": "code",
      "metadata": {
        "colab": {
          "base_uri": "https://localhost:8080/"
        },
        "id": "KhMTVxP5Da8h",
        "outputId": "d00357f6-cb1f-45f9-d62e-0767b26ff3e6"
      },
      "source": [
        "X = ['1', '1', '0', '0', '0', '1', '0', '1', '0', '0', '0', '1', '1', '1', '1', '0', '1', '1', '1', '0', '0', '1', '0', '1', '1', '1', '0', '0', '1', '0', '1', '0', '1', '1', '0', '0', '1', '1', '1']\n",
        "t = 3\n",
        "text = 'datastructure'\n",
        "N = len(text)\n",
        "\n",
        "codebook = {}\n",
        "codebook = huffman_codes_0(text)\n",
        "codebook_Can = can_code_tree(codebook)\n",
        "\n",
        "print(codebook_Can)"
      ],
      "execution_count": null,
      "outputs": [
        {
          "output_type": "stream",
          "text": [
            " Char | HF code | Code length\n",
            "--------------------------------\n",
            " 't'  |      01 |    2\n",
            " 'a'  |      00 |    2\n",
            " 'r'  |     101 |    3\n",
            " 'u'  |     100 |    3\n",
            " 'd'  |    1101 |    4\n",
            " 's'  |    1100 |    4\n",
            " 'c'  |    1111 |    4\n",
            " 'e'  |    1110 |    4\n",
            "{'a': '00', 't': '01', 'r': '100', 'u': '101', 'c': '1100', 'd': '1101', 'e': '1110', 's': '1111'}\n"
          ],
          "name": "stdout"
        }
      ]
    },
    {
      "cell_type": "code",
      "metadata": {
        "colab": {
          "base_uri": "https://localhost:8080/"
        },
        "id": "TOqOhKYODije",
        "outputId": "cf958d78-2d31-4178-b854-a6411cf37042"
      },
      "source": [
        "# retrieve symbols from 5 to N-1\n",
        "out = []\n",
        "for i in range(5,N):\n",
        "  v,_,_ = R(X,t,N,i)\n",
        "  out.append(v)\n",
        "print(out)"
      ],
      "execution_count": null,
      "outputs": [
        {
          "output_type": "stream",
          "text": [
            "['s', 't', 'r', 'u', 'c', 't', 'u', 'r']\n"
          ],
          "name": "stdout"
        }
      ]
    }
  ]
}